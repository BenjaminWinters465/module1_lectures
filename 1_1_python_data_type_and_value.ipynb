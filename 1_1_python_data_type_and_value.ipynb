{
  "nbformat": 4,
  "nbformat_minor": 0,
  "metadata": {
    "anaconda-cloud": {},
    "kernelspec": {
      "display_name": "Python 3",
      "language": "python",
      "name": "python3"
    },
    "language_info": {
      "codemirror_mode": {
        "name": "ipython",
        "version": 3
      },
      "file_extension": ".py",
      "mimetype": "text/x-python",
      "name": "python",
      "nbconvert_exporter": "python",
      "pygments_lexer": "ipython3",
      "version": "3.7.0"
    },
    "colab": {
      "name": "1_1_python_data_type_and_value.ipynb",
      "provenance": [],
      "include_colab_link": true
    }
  },
  "cells": [
    {
      "cell_type": "markdown",
      "metadata": {
        "id": "view-in-github",
        "colab_type": "text"
      },
      "source": [
        "<a href=\"https://colab.research.google.com/github/BenjaminWinters465/module1_lectures/blob/master/1_1_python_data_type_and_value.ipynb\" target=\"_parent\"><img src=\"https://colab.research.google.com/assets/colab-badge.svg\" alt=\"Open In Colab\"/></a>"
      ]
    },
    {
      "cell_type": "markdown",
      "metadata": {
        "id": "6H5xdWDcbwuI",
        "colab_type": "text"
      },
      "source": [
        "## Python data\n",
        "\n",
        "* All data have a *type* and *value*\n",
        "    * *type* is based off the underlying class\n",
        "    * *value* is returned by the Python interpreter\n",
        "* We can use the `type` function to discover data classes/types"
      ]
    },
    {
      "cell_type": "markdown",
      "metadata": {
        "id": "__g-soXabwuR",
        "colab_type": "text"
      },
      "source": [
        "#### Value of `\"Hello World\"`"
      ]
    },
    {
      "cell_type": "code",
      "metadata": {
        "id": "sdbAjOS5bwua",
        "colab_type": "code",
        "colab": {
          "base_uri": "https://localhost:8080/",
          "height": 36
        },
        "outputId": "f8299e87-c9c3-4f14-f45b-467148b01ffc"
      },
      "source": [
        "\"Hello World\""
      ],
      "execution_count": 1,
      "outputs": [
        {
          "output_type": "execute_result",
          "data": {
            "application/vnd.google.colaboratory.intrinsic+json": {
              "type": "string"
            },
            "text/plain": [
              "'Hello World'"
            ]
          },
          "metadata": {
            "tags": []
          },
          "execution_count": 1
        }
      ]
    },
    {
      "cell_type": "markdown",
      "metadata": {
        "id": "WzrOvLLwbwvH",
        "colab_type": "text"
      },
      "source": [
        "#### Type of `\"Hello World\"`"
      ]
    },
    {
      "cell_type": "code",
      "metadata": {
        "id": "eph_3GAUbwvO",
        "colab_type": "code",
        "colab": {},
        "outputId": "4eb2b96b-18ae-4ae0-8280-6b96a40aca63"
      },
      "source": [
        "type(\"Hello World\")"
      ],
      "execution_count": null,
      "outputs": [
        {
          "output_type": "execute_result",
          "data": {
            "text/plain": [
              "str"
            ]
          },
          "metadata": {
            "tags": []
          },
          "execution_count": 14
        }
      ]
    },
    {
      "cell_type": "code",
      "metadata": {
        "id": "XL7ypE_7bwvx",
        "colab_type": "code",
        "colab": {},
        "outputId": "68d5de75-23dd-4443-ff20-76f4f279e030"
      },
      "source": [
        "2.5"
      ],
      "execution_count": null,
      "outputs": [
        {
          "output_type": "execute_result",
          "data": {
            "text/plain": [
              "2.5"
            ]
          },
          "metadata": {
            "tags": []
          },
          "execution_count": 26
        }
      ]
    },
    {
      "cell_type": "code",
      "metadata": {
        "id": "vcqRBjdbbwwM",
        "colab_type": "code",
        "colab": {},
        "outputId": "94f85757-f0e1-4ba4-fcbe-93ec5e8faa26"
      },
      "source": [
        "type(2.5)"
      ],
      "execution_count": null,
      "outputs": [
        {
          "output_type": "execute_result",
          "data": {
            "text/plain": [
              "float"
            ]
          },
          "metadata": {
            "tags": []
          },
          "execution_count": 27
        }
      ]
    },
    {
      "cell_type": "code",
      "metadata": {
        "scrolled": true,
        "id": "K5ddouuZbwwu",
        "colab_type": "code",
        "colab": {},
        "outputId": "6ff1c5ba-fb04-47d8-ae8d-17ee47d66fec"
      },
      "source": [
        "17"
      ],
      "execution_count": null,
      "outputs": [
        {
          "output_type": "execute_result",
          "data": {
            "text/plain": [
              "17"
            ]
          },
          "metadata": {
            "tags": []
          },
          "execution_count": 28
        }
      ]
    },
    {
      "cell_type": "code",
      "metadata": {
        "scrolled": false,
        "id": "NTuDqwAPbwxR",
        "colab_type": "code",
        "colab": {},
        "outputId": "2929285e-f9c3-4510-ecf0-66b6dae5b1fa"
      },
      "source": [
        "type(17)"
      ],
      "execution_count": null,
      "outputs": [
        {
          "output_type": "execute_result",
          "data": {
            "text/plain": [
              "int"
            ]
          },
          "metadata": {
            "tags": []
          },
          "execution_count": 29
        }
      ]
    },
    {
      "cell_type": "code",
      "metadata": {
        "scrolled": true,
        "id": "TehhsCMgbwxq",
        "colab_type": "code",
        "colab": {
          "base_uri": "https://localhost:8080/",
          "height": 35
        },
        "outputId": "10b00dd1-e55d-42bd-cfa5-4a3e26ac7a44"
      },
      "source": [
        "17.0"
      ],
      "execution_count": 2,
      "outputs": [
        {
          "output_type": "execute_result",
          "data": {
            "text/plain": [
              "17.0"
            ]
          },
          "metadata": {
            "tags": []
          },
          "execution_count": 2
        }
      ]
    },
    {
      "cell_type": "code",
      "metadata": {
        "id": "t7Cnucpdd_X_",
        "colab_type": "code",
        "colab": {
          "base_uri": "https://localhost:8080/",
          "height": 35
        },
        "outputId": "7b23f2fc-6820-4156-dab4-0a3cab1fd9f0"
      },
      "source": [
        "type(17.0)"
      ],
      "execution_count": 3,
      "outputs": [
        {
          "output_type": "execute_result",
          "data": {
            "text/plain": [
              "float"
            ]
          },
          "metadata": {
            "tags": []
          },
          "execution_count": 3
        }
      ]
    },
    {
      "cell_type": "markdown",
      "metadata": {
        "id": "CsmsKLsLbwx-",
        "colab_type": "text"
      },
      "source": [
        "<font color=\"red\"> <h2> Exercise </h2></font>\n",
        "\n",
        "Investivate the type and value of the following\n",
        "\n",
        "* 2 + 17\n",
        "* 2 + 17.0"
      ]
    },
    {
      "cell_type": "code",
      "metadata": {
        "scrolled": false,
        "id": "RZguo2oubwyC",
        "colab_type": "code",
        "colab": {
          "base_uri": "https://localhost:8080/",
          "height": 35
        },
        "outputId": "2784612c-b4f0-4239-b7e8-0300374d4112"
      },
      "source": [
        "2 + 17"
      ],
      "execution_count": 4,
      "outputs": [
        {
          "output_type": "execute_result",
          "data": {
            "text/plain": [
              "19"
            ]
          },
          "metadata": {
            "tags": []
          },
          "execution_count": 4
        }
      ]
    },
    {
      "cell_type": "code",
      "metadata": {
        "id": "0VeotQT4eQDe",
        "colab_type": "code",
        "colab": {
          "base_uri": "https://localhost:8080/",
          "height": 35
        },
        "outputId": "be1c284d-b570-42ed-f88e-30d3dd537e75"
      },
      "source": [
        "type(2+17)"
      ],
      "execution_count": 6,
      "outputs": [
        {
          "output_type": "execute_result",
          "data": {
            "text/plain": [
              "int"
            ]
          },
          "metadata": {
            "tags": []
          },
          "execution_count": 6
        }
      ]
    },
    {
      "cell_type": "code",
      "metadata": {
        "id": "KMbc6eWqeV7v",
        "colab_type": "code",
        "colab": {
          "base_uri": "https://localhost:8080/",
          "height": 35
        },
        "outputId": "079c9b5d-73e9-46f4-eb63-c8a124c283df"
      },
      "source": [
        "2+17.0"
      ],
      "execution_count": 7,
      "outputs": [
        {
          "output_type": "execute_result",
          "data": {
            "text/plain": [
              "19.0"
            ]
          },
          "metadata": {
            "tags": []
          },
          "execution_count": 7
        }
      ]
    },
    {
      "cell_type": "code",
      "metadata": {
        "id": "VYjrWH9IeY9B",
        "colab_type": "code",
        "colab": {
          "base_uri": "https://localhost:8080/",
          "height": 35
        },
        "outputId": "92a1caed-80a1-452d-d51f-4d8c2d9b6943"
      },
      "source": [
        "type(2+17.0)"
      ],
      "execution_count": 8,
      "outputs": [
        {
          "output_type": "execute_result",
          "data": {
            "text/plain": [
              "float"
            ]
          },
          "metadata": {
            "tags": []
          },
          "execution_count": 8
        }
      ]
    },
    {
      "cell_type": "markdown",
      "metadata": {
        "id": "Xyr_QT7ubwya",
        "colab_type": "text"
      },
      "source": [
        "## Other basic types\n",
        "\n",
        "* Boolean\n",
        "* None"
      ]
    },
    {
      "cell_type": "code",
      "metadata": {
        "id": "n8nzpZabbwyg",
        "colab_type": "code",
        "colab": {},
        "outputId": "ac8bb588-e4a2-484a-8dee-68abf973ed6f"
      },
      "source": [
        "True"
      ],
      "execution_count": null,
      "outputs": [
        {
          "output_type": "execute_result",
          "data": {
            "text/plain": [
              "True"
            ]
          },
          "metadata": {
            "tags": []
          },
          "execution_count": 36
        }
      ]
    },
    {
      "cell_type": "code",
      "metadata": {
        "id": "Dna3Wzo2bwy2",
        "colab_type": "code",
        "colab": {},
        "outputId": "ebb6d175-25cf-4fd2-9a11-586080ae2b76"
      },
      "source": [
        "type(True)"
      ],
      "execution_count": null,
      "outputs": [
        {
          "output_type": "execute_result",
          "data": {
            "text/plain": [
              "bool"
            ]
          },
          "metadata": {
            "tags": []
          },
          "execution_count": 37
        }
      ]
    },
    {
      "cell_type": "code",
      "metadata": {
        "id": "-nkuSJgXbwzQ",
        "colab_type": "code",
        "colab": {},
        "outputId": "b94a31c6-9403-48e4-9024-ca84a949124b"
      },
      "source": [
        "False"
      ],
      "execution_count": null,
      "outputs": [
        {
          "output_type": "execute_result",
          "data": {
            "text/plain": [
              "False"
            ]
          },
          "metadata": {
            "tags": []
          },
          "execution_count": 38
        }
      ]
    },
    {
      "cell_type": "code",
      "metadata": {
        "id": "ovpJwIuQbwzn",
        "colab_type": "code",
        "colab": {},
        "outputId": "be2633de-db65-43b1-db64-d321c15b3dbe"
      },
      "source": [
        "type(False)"
      ],
      "execution_count": null,
      "outputs": [
        {
          "output_type": "execute_result",
          "data": {
            "text/plain": [
              "bool"
            ]
          },
          "metadata": {
            "tags": []
          },
          "execution_count": 39
        }
      ]
    },
    {
      "cell_type": "code",
      "metadata": {
        "id": "HlX8mYJwbw0D",
        "colab_type": "code",
        "colab": {}
      },
      "source": [
        "None"
      ],
      "execution_count": 9,
      "outputs": []
    },
    {
      "cell_type": "code",
      "metadata": {
        "id": "dRFGh3sHbw0V",
        "colab_type": "code",
        "colab": {},
        "outputId": "7354afe1-066f-4603-97ee-fc3eeed427c8"
      },
      "source": [
        "type(None)"
      ],
      "execution_count": null,
      "outputs": [
        {
          "output_type": "execute_result",
          "data": {
            "text/plain": [
              "NoneType"
            ]
          },
          "metadata": {
            "tags": []
          },
          "execution_count": 41
        }
      ]
    },
    {
      "cell_type": "markdown",
      "metadata": {
        "id": "GCR5uBoBbw0r",
        "colab_type": "text"
      },
      "source": [
        "## Collection types\n",
        "\n",
        "* Python comes with nice collection types\n",
        "   "
      ]
    },
    {
      "cell_type": "code",
      "metadata": {
        "id": "Xj8ZF3ilbw0w",
        "colab_type": "code",
        "colab": {},
        "outputId": "08f5ab92-de5a-478d-8bde-acf1fb083087"
      },
      "source": [
        "[1,2,3] # Mutatable sequence"
      ],
      "execution_count": null,
      "outputs": [
        {
          "output_type": "execute_result",
          "data": {
            "text/plain": [
              "[1, 2, 3]"
            ]
          },
          "metadata": {
            "tags": []
          },
          "execution_count": 42
        }
      ]
    },
    {
      "cell_type": "code",
      "metadata": {
        "id": "OeddtQVhbw1H",
        "colab_type": "code",
        "colab": {},
        "outputId": "8cfb51d9-ac19-4ebd-f986-77401cd33925"
      },
      "source": [
        "type([1,2,3]) # Mutatable sequence"
      ],
      "execution_count": null,
      "outputs": [
        {
          "output_type": "execute_result",
          "data": {
            "text/plain": [
              "list"
            ]
          },
          "metadata": {
            "tags": []
          },
          "execution_count": 43
        }
      ]
    },
    {
      "cell_type": "code",
      "metadata": {
        "id": "tKFZfL1qbw1d",
        "colab_type": "code",
        "colab": {},
        "outputId": "90504be6-9fdb-4da9-a36e-98d9db9ad61e"
      },
      "source": [
        "(1,2,3) # Immutable sequence"
      ],
      "execution_count": null,
      "outputs": [
        {
          "output_type": "execute_result",
          "data": {
            "text/plain": [
              "(1, 2, 3)"
            ]
          },
          "metadata": {
            "tags": []
          },
          "execution_count": 44
        }
      ]
    },
    {
      "cell_type": "code",
      "metadata": {
        "id": "bfiFau-Kbw1s",
        "colab_type": "code",
        "colab": {},
        "outputId": "acbd3d45-2c55-441e-b0d0-a237751cb283"
      },
      "source": [
        "type((1,2,3)) # Immutable sequence"
      ],
      "execution_count": null,
      "outputs": [
        {
          "output_type": "execute_result",
          "data": {
            "text/plain": [
              "tuple"
            ]
          },
          "metadata": {
            "tags": []
          },
          "execution_count": 45
        }
      ]
    },
    {
      "cell_type": "code",
      "metadata": {
        "id": "VrFu1ePPbw1_",
        "colab_type": "code",
        "colab": {},
        "outputId": "c31798fe-8d26-4b01-a32f-ea17468146f8"
      },
      "source": [
        "{\"one\":1, \"two\":2, \"three\":3} # Associative map"
      ],
      "execution_count": null,
      "outputs": [
        {
          "output_type": "execute_result",
          "data": {
            "text/plain": [
              "{'one': 1, 'two': 2, 'three': 3}"
            ]
          },
          "metadata": {
            "tags": []
          },
          "execution_count": 46
        }
      ]
    },
    {
      "cell_type": "code",
      "metadata": {
        "id": "R0lDdQEybw2T",
        "colab_type": "code",
        "colab": {},
        "outputId": "c5556c99-23df-4b27-a9d6-f6ecb80d8ad3"
      },
      "source": [
        "type({\"one\":1, \"two\":2, \"three\":3}) # Associative map"
      ],
      "execution_count": null,
      "outputs": [
        {
          "output_type": "execute_result",
          "data": {
            "text/plain": [
              "dict"
            ]
          },
          "metadata": {
            "tags": []
          },
          "execution_count": 47
        }
      ]
    },
    {
      "cell_type": "code",
      "metadata": {
        "id": "GsIaUt8lbw2s",
        "colab_type": "code",
        "colab": {},
        "outputId": "0063b450-0ac8-4782-c1f8-7a9d3aeff0b5"
      },
      "source": [
        "{1,2,3} # Unordered collection with unique entries"
      ],
      "execution_count": null,
      "outputs": [
        {
          "output_type": "execute_result",
          "data": {
            "text/plain": [
              "{1, 2, 3}"
            ]
          },
          "metadata": {
            "tags": []
          },
          "execution_count": 48
        }
      ]
    },
    {
      "cell_type": "code",
      "metadata": {
        "id": "klgUIRJ_bw3F",
        "colab_type": "code",
        "colab": {
          "base_uri": "https://localhost:8080/",
          "height": 35
        },
        "outputId": "e7d86485-459b-48a8-a7b5-236d40cb1fbb"
      },
      "source": [
        "type({1,2,3}) # Unordered collection with unique entries"
      ],
      "execution_count": 10,
      "outputs": [
        {
          "output_type": "execute_result",
          "data": {
            "text/plain": [
              "set"
            ]
          },
          "metadata": {
            "tags": []
          },
          "execution_count": 10
        }
      ]
    },
    {
      "cell_type": "code",
      "metadata": {
        "id": "AOFfSMftiMbj",
        "colab_type": "code",
        "colab": {
          "base_uri": "https://localhost:8080/",
          "height": 35
        },
        "outputId": "0d511545-5a07-4cf9-e3d3-190f6074d0b4"
      },
      "source": [
        "\"Iverson\" > \"Bergen\""
      ],
      "execution_count": 11,
      "outputs": [
        {
          "output_type": "execute_result",
          "data": {
            "text/plain": [
              "True"
            ]
          },
          "metadata": {
            "tags": []
          },
          "execution_count": 11
        }
      ]
    }
  ]
}